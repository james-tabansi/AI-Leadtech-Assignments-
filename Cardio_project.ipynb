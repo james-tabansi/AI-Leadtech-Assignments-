{
 "cells": [
  {
   "cell_type": "markdown",
   "id": "38171765",
   "metadata": {},
   "source": [
    "# JAMES CHUKWUKA TABANSI\n",
    "\n",
    "## Problem Statement:\n",
    "\n",
    "- The objective of this project is to explore the dataset and identify key differences between customers for each product. By analyzing various customer attributes and conducting univariate and multivariate analyses, the goal is to generate valuable insights and recommendations that will assist the company in effectively targeting new customers. The challenge is to develop comprehensive customer profiles and provide actionable strategies that align with the business objectives, leveraging Python as the primary tool for data analysis.\n",
    "## Objective Statement:\n",
    "- The ultimate objective is to generate actionable insights and strategic recommendations that will enable the company to effectively target and attract new customers. The goal of this project is to leverage my expertise in Python and data analysis techniques, I aim to thoroughly explore the dataset, uncovering distinctions among customers for each product and establishing connections between various customer attributes. By conducting comprehensive univariate and multivariate analyses, I strive to develop comprehensive customer profiles for each product."
   ]
  },
  {
   "cell_type": "markdown",
   "id": "c4f513a0",
   "metadata": {},
   "source": [
    "### import relevant libraries"
   ]
  },
  {
   "cell_type": "code",
   "execution_count": 2,
   "id": "95c96d4a",
   "metadata": {},
   "outputs": [],
   "source": [
    "import pandas as pd\n",
    "import matplotlib.pyplot as plt\n",
    "import seaborn as sns\n",
    "import numpy as np"
   ]
  },
  {
   "cell_type": "markdown",
   "id": "37562e1a",
   "metadata": {},
   "source": [
    "### Load the data"
   ]
  },
  {
   "cell_type": "code",
   "execution_count": 3,
   "id": "149128fe",
   "metadata": {},
   "outputs": [],
   "source": [
    "path = '/Users/user/Downloads/CardioGoodFitness-1.csv'\n",
    "df1 = pd.read_csv(path)"
   ]
  },
  {
   "cell_type": "markdown",
   "id": "bbf271cf",
   "metadata": {},
   "source": [
    "### sample the data"
   ]
  },
  {
   "cell_type": "code",
   "execution_count": 4,
   "id": "4eaf9215",
   "metadata": {},
   "outputs": [
    {
     "data": {
      "text/html": [
       "<div>\n",
       "<style scoped>\n",
       "    .dataframe tbody tr th:only-of-type {\n",
       "        vertical-align: middle;\n",
       "    }\n",
       "\n",
       "    .dataframe tbody tr th {\n",
       "        vertical-align: top;\n",
       "    }\n",
       "\n",
       "    .dataframe thead th {\n",
       "        text-align: right;\n",
       "    }\n",
       "</style>\n",
       "<table border=\"1\" class=\"dataframe\">\n",
       "  <thead>\n",
       "    <tr style=\"text-align: right;\">\n",
       "      <th></th>\n",
       "      <th>Product</th>\n",
       "      <th>Age</th>\n",
       "      <th>Gender</th>\n",
       "      <th>Education</th>\n",
       "      <th>MaritalStatus</th>\n",
       "      <th>Usage</th>\n",
       "      <th>Fitness</th>\n",
       "      <th>Income</th>\n",
       "      <th>Miles</th>\n",
       "    </tr>\n",
       "  </thead>\n",
       "  <tbody>\n",
       "    <tr>\n",
       "      <th>153</th>\n",
       "      <td>TM798</td>\n",
       "      <td>25</td>\n",
       "      <td>Male</td>\n",
       "      <td>18</td>\n",
       "      <td>Partnered</td>\n",
       "      <td>4</td>\n",
       "      <td>3</td>\n",
       "      <td>64741</td>\n",
       "      <td>100</td>\n",
       "    </tr>\n",
       "    <tr>\n",
       "      <th>60</th>\n",
       "      <td>TM195</td>\n",
       "      <td>33</td>\n",
       "      <td>Female</td>\n",
       "      <td>16</td>\n",
       "      <td>Partnered</td>\n",
       "      <td>3</td>\n",
       "      <td>3</td>\n",
       "      <td>46617</td>\n",
       "      <td>85</td>\n",
       "    </tr>\n",
       "    <tr>\n",
       "      <th>50</th>\n",
       "      <td>TM195</td>\n",
       "      <td>29</td>\n",
       "      <td>Male</td>\n",
       "      <td>18</td>\n",
       "      <td>Partnered</td>\n",
       "      <td>3</td>\n",
       "      <td>3</td>\n",
       "      <td>68220</td>\n",
       "      <td>85</td>\n",
       "    </tr>\n",
       "    <tr>\n",
       "      <th>51</th>\n",
       "      <td>TM195</td>\n",
       "      <td>29</td>\n",
       "      <td>Female</td>\n",
       "      <td>14</td>\n",
       "      <td>Partnered</td>\n",
       "      <td>2</td>\n",
       "      <td>2</td>\n",
       "      <td>46617</td>\n",
       "      <td>38</td>\n",
       "    </tr>\n",
       "    <tr>\n",
       "      <th>91</th>\n",
       "      <td>TM498</td>\n",
       "      <td>23</td>\n",
       "      <td>Female</td>\n",
       "      <td>16</td>\n",
       "      <td>Partnered</td>\n",
       "      <td>3</td>\n",
       "      <td>2</td>\n",
       "      <td>43206</td>\n",
       "      <td>74</td>\n",
       "    </tr>\n",
       "  </tbody>\n",
       "</table>\n",
       "</div>"
      ],
      "text/plain": [
       "    Product  Age  Gender  Education MaritalStatus  Usage  Fitness  Income  \\\n",
       "153   TM798   25    Male         18     Partnered      4        3   64741   \n",
       "60    TM195   33  Female         16     Partnered      3        3   46617   \n",
       "50    TM195   29    Male         18     Partnered      3        3   68220   \n",
       "51    TM195   29  Female         14     Partnered      2        2   46617   \n",
       "91    TM498   23  Female         16     Partnered      3        2   43206   \n",
       "\n",
       "     Miles  \n",
       "153    100  \n",
       "60      85  \n",
       "50      85  \n",
       "51      38  \n",
       "91      74  "
      ]
     },
     "execution_count": 4,
     "metadata": {},
     "output_type": "execute_result"
    }
   ],
   "source": [
    "df1.sample(n = 5)\n",
    "#view any 5 rows of the data"
   ]
  },
  {
   "cell_type": "markdown",
   "id": "04dc7934",
   "metadata": {},
   "source": [
    "### Data exploration"
   ]
  },
  {
   "cell_type": "code",
   "execution_count": 7,
   "id": "e960ee17",
   "metadata": {},
   "outputs": [
    {
     "data": {
      "text/plain": [
       "(180, 9)"
      ]
     },
     "execution_count": 7,
     "metadata": {},
     "output_type": "execute_result"
    }
   ],
   "source": [
    "#shape of the dataset\n",
    "df1.shape"
   ]
  },
  {
   "cell_type": "markdown",
   "id": "dcbac784",
   "metadata": {},
   "source": [
    "- there are 180 rows and 9 columns in this data"
   ]
  },
  {
   "cell_type": "code",
   "execution_count": 6,
   "id": "a1987735",
   "metadata": {},
   "outputs": [
    {
     "name": "stdout",
     "output_type": "stream",
     "text": [
      "<class 'pandas.core.frame.DataFrame'>\n",
      "RangeIndex: 180 entries, 0 to 179\n",
      "Data columns (total 9 columns):\n",
      " #   Column         Non-Null Count  Dtype \n",
      "---  ------         --------------  ----- \n",
      " 0   Product        180 non-null    object\n",
      " 1   Age            180 non-null    int64 \n",
      " 2   Gender         180 non-null    object\n",
      " 3   Education      180 non-null    int64 \n",
      " 4   MaritalStatus  180 non-null    object\n",
      " 5   Usage          180 non-null    int64 \n",
      " 6   Fitness        180 non-null    int64 \n",
      " 7   Income         180 non-null    int64 \n",
      " 8   Miles          180 non-null    int64 \n",
      "dtypes: int64(6), object(3)\n",
      "memory usage: 12.8+ KB\n"
     ]
    }
   ],
   "source": [
    "#explore the data types for each of the columns\n",
    "df1.info()"
   ]
  },
  {
   "cell_type": "markdown",
   "id": "58f8977e",
   "metadata": {},
   "source": [
    "1. there are no missing values for this data\n",
    "2. the product, gender and maritalstatus, are of object datatype, while others are integers. "
   ]
  },
  {
   "cell_type": "code",
   "execution_count": 56,
   "id": "7cfa9869",
   "metadata": {},
   "outputs": [
    {
     "data": {
      "text/html": [
       "<div>\n",
       "<style scoped>\n",
       "    .dataframe tbody tr th:only-of-type {\n",
       "        vertical-align: middle;\n",
       "    }\n",
       "\n",
       "    .dataframe tbody tr th {\n",
       "        vertical-align: top;\n",
       "    }\n",
       "\n",
       "    .dataframe thead th {\n",
       "        text-align: right;\n",
       "    }\n",
       "</style>\n",
       "<table border=\"1\" class=\"dataframe\">\n",
       "  <thead>\n",
       "    <tr style=\"text-align: right;\">\n",
       "      <th></th>\n",
       "      <th>count</th>\n",
       "      <th>unique</th>\n",
       "      <th>top</th>\n",
       "      <th>freq</th>\n",
       "      <th>mean</th>\n",
       "      <th>std</th>\n",
       "      <th>min</th>\n",
       "      <th>25%</th>\n",
       "      <th>50%</th>\n",
       "      <th>75%</th>\n",
       "      <th>max</th>\n",
       "    </tr>\n",
       "  </thead>\n",
       "  <tbody>\n",
       "    <tr>\n",
       "      <th>Product</th>\n",
       "      <td>180</td>\n",
       "      <td>3</td>\n",
       "      <td>TM195</td>\n",
       "      <td>80</td>\n",
       "      <td>NaN</td>\n",
       "      <td>NaN</td>\n",
       "      <td>NaN</td>\n",
       "      <td>NaN</td>\n",
       "      <td>NaN</td>\n",
       "      <td>NaN</td>\n",
       "      <td>NaN</td>\n",
       "    </tr>\n",
       "    <tr>\n",
       "      <th>Age</th>\n",
       "      <td>180.0</td>\n",
       "      <td>NaN</td>\n",
       "      <td>NaN</td>\n",
       "      <td>NaN</td>\n",
       "      <td>28.788889</td>\n",
       "      <td>6.943498</td>\n",
       "      <td>18.0</td>\n",
       "      <td>24.0</td>\n",
       "      <td>26.0</td>\n",
       "      <td>33.0</td>\n",
       "      <td>50.0</td>\n",
       "    </tr>\n",
       "    <tr>\n",
       "      <th>Gender</th>\n",
       "      <td>180</td>\n",
       "      <td>2</td>\n",
       "      <td>Male</td>\n",
       "      <td>104</td>\n",
       "      <td>NaN</td>\n",
       "      <td>NaN</td>\n",
       "      <td>NaN</td>\n",
       "      <td>NaN</td>\n",
       "      <td>NaN</td>\n",
       "      <td>NaN</td>\n",
       "      <td>NaN</td>\n",
       "    </tr>\n",
       "    <tr>\n",
       "      <th>Education</th>\n",
       "      <td>180.0</td>\n",
       "      <td>NaN</td>\n",
       "      <td>NaN</td>\n",
       "      <td>NaN</td>\n",
       "      <td>15.572222</td>\n",
       "      <td>1.617055</td>\n",
       "      <td>12.0</td>\n",
       "      <td>14.0</td>\n",
       "      <td>16.0</td>\n",
       "      <td>16.0</td>\n",
       "      <td>21.0</td>\n",
       "    </tr>\n",
       "    <tr>\n",
       "      <th>MaritalStatus</th>\n",
       "      <td>180</td>\n",
       "      <td>2</td>\n",
       "      <td>Partnered</td>\n",
       "      <td>107</td>\n",
       "      <td>NaN</td>\n",
       "      <td>NaN</td>\n",
       "      <td>NaN</td>\n",
       "      <td>NaN</td>\n",
       "      <td>NaN</td>\n",
       "      <td>NaN</td>\n",
       "      <td>NaN</td>\n",
       "    </tr>\n",
       "    <tr>\n",
       "      <th>Usage</th>\n",
       "      <td>180.0</td>\n",
       "      <td>NaN</td>\n",
       "      <td>NaN</td>\n",
       "      <td>NaN</td>\n",
       "      <td>3.455556</td>\n",
       "      <td>1.084797</td>\n",
       "      <td>2.0</td>\n",
       "      <td>3.0</td>\n",
       "      <td>3.0</td>\n",
       "      <td>4.0</td>\n",
       "      <td>7.0</td>\n",
       "    </tr>\n",
       "    <tr>\n",
       "      <th>Fitness</th>\n",
       "      <td>180.0</td>\n",
       "      <td>NaN</td>\n",
       "      <td>NaN</td>\n",
       "      <td>NaN</td>\n",
       "      <td>3.311111</td>\n",
       "      <td>0.958869</td>\n",
       "      <td>1.0</td>\n",
       "      <td>3.0</td>\n",
       "      <td>3.0</td>\n",
       "      <td>4.0</td>\n",
       "      <td>5.0</td>\n",
       "    </tr>\n",
       "    <tr>\n",
       "      <th>Income</th>\n",
       "      <td>180.0</td>\n",
       "      <td>NaN</td>\n",
       "      <td>NaN</td>\n",
       "      <td>NaN</td>\n",
       "      <td>53719.577778</td>\n",
       "      <td>16506.684226</td>\n",
       "      <td>29562.0</td>\n",
       "      <td>44058.75</td>\n",
       "      <td>50596.5</td>\n",
       "      <td>58668.0</td>\n",
       "      <td>104581.0</td>\n",
       "    </tr>\n",
       "    <tr>\n",
       "      <th>Miles</th>\n",
       "      <td>180.0</td>\n",
       "      <td>NaN</td>\n",
       "      <td>NaN</td>\n",
       "      <td>NaN</td>\n",
       "      <td>103.194444</td>\n",
       "      <td>51.863605</td>\n",
       "      <td>21.0</td>\n",
       "      <td>66.0</td>\n",
       "      <td>94.0</td>\n",
       "      <td>114.75</td>\n",
       "      <td>360.0</td>\n",
       "    </tr>\n",
       "  </tbody>\n",
       "</table>\n",
       "</div>"
      ],
      "text/plain": [
       "               count unique        top freq          mean           std  \\\n",
       "Product          180      3      TM195   80           NaN           NaN   \n",
       "Age            180.0    NaN        NaN  NaN     28.788889      6.943498   \n",
       "Gender           180      2       Male  104           NaN           NaN   \n",
       "Education      180.0    NaN        NaN  NaN     15.572222      1.617055   \n",
       "MaritalStatus    180      2  Partnered  107           NaN           NaN   \n",
       "Usage          180.0    NaN        NaN  NaN      3.455556      1.084797   \n",
       "Fitness        180.0    NaN        NaN  NaN      3.311111      0.958869   \n",
       "Income         180.0    NaN        NaN  NaN  53719.577778  16506.684226   \n",
       "Miles          180.0    NaN        NaN  NaN    103.194444     51.863605   \n",
       "\n",
       "                   min       25%      50%      75%       max  \n",
       "Product            NaN       NaN      NaN      NaN       NaN  \n",
       "Age               18.0      24.0     26.0     33.0      50.0  \n",
       "Gender             NaN       NaN      NaN      NaN       NaN  \n",
       "Education         12.0      14.0     16.0     16.0      21.0  \n",
       "MaritalStatus      NaN       NaN      NaN      NaN       NaN  \n",
       "Usage              2.0       3.0      3.0      4.0       7.0  \n",
       "Fitness            1.0       3.0      3.0      4.0       5.0  \n",
       "Income         29562.0  44058.75  50596.5  58668.0  104581.0  \n",
       "Miles             21.0      66.0     94.0   114.75     360.0  "
      ]
     },
     "execution_count": 56,
     "metadata": {},
     "output_type": "execute_result"
    }
   ],
   "source": [
    "#overview of the descriptive properties of each column of the dataset\n",
    "df1.describe(include = 'all').T"
   ]
  },
  {
   "cell_type": "markdown",
   "id": "e5cdbb7e",
   "metadata": {},
   "source": [
    "\n",
    "1. Product\n",
    "    - there are 3 unique type of treadmills and the most used is the TM195 version\n",
    "    - 80 customers out of 180, make use of the TM195\n",
    "    * if we group customers based on income range, which of the subset purchased the TM195 version more? what does that suggest about the product?\n",
    "\n",
    "2. Age\n",
    "    - the youngest customer is 18yrs and the oldest customer is 50 years, this could mean that olders people above 50years do not enjoy running miles using the treadmill to exercise or could be an insight to sales and media team to educate this absent age class on the benefits of treadmill\n",
    "    - 50 % of the customers are not above 26years. and 25 % of the entire customer population age between 24years and 26years, this is because they occupy the 25th to 50th percentile and might just be the age grade with the highest frequency.\n",
    "    - the mean age (28.79), is close to the median age (26), this suggests a normal distribution of the customers' age.\n",
    "    * if we subset or group into different age grade, how often does customers of the age grade use the treadmill, and how fit are they?\n",
    "    \n",
    "3. Gender\n",
    "    - there are 2 age categories, most of which are male.\n",
    "    * relative to male and female category, which is more fit?\n",
    "    \n",
    "4. Education\n",
    "    - 75% of the customers have spent at least 16years in school\n",
    "    - the minimum years spent in school is 12 and the maximum is 21.\n",
    "    - this could mean that majority if the customers are highly educated\n",
    "   * does education levvel affect fitness level?\n",
    "   \n",
    "5. MaritalStatus\n",
    "    - there are only 2 categories, and most of the customers are partnered\n",
    "    * compared to the single partners, which of them make use of the treadmill more and which is more fit?\n",
    "  \n",
    "6. usage\n",
    "    - 50% of the customers make use of the treadmill at least 3 times weekly\n",
    "\n",
    "7. Fitness\n",
    "    - 50 % of the customers have fitness level on or below average (3.0)\n",
    "    - the mean fitness (3.3) is close to the median value (3.0)\n",
    "\n",
    "8. income\n",
    "    - the minimum income is 29,562 and the maximum is 104,581.\n",
    "    - 50% of the customers earn below the mean. this suggests the presence of outliers in this column\n",
    "    \n",
    "9. Miles\n",
    "    - 50% of customers are expected to run within 94 miles.\n",
    "    - the maximum mile a customer is exxpected to run is 360\n"
   ]
  },
  {
   "cell_type": "code",
   "execution_count": 13,
   "id": "4cb41b7b",
   "metadata": {},
   "outputs": [
    {
     "data": {
      "text/html": [
       "<div>\n",
       "<style scoped>\n",
       "    .dataframe tbody tr th:only-of-type {\n",
       "        vertical-align: middle;\n",
       "    }\n",
       "\n",
       "    .dataframe tbody tr th {\n",
       "        vertical-align: top;\n",
       "    }\n",
       "\n",
       "    .dataframe thead th {\n",
       "        text-align: right;\n",
       "    }\n",
       "</style>\n",
       "<table border=\"1\" class=\"dataframe\">\n",
       "  <thead>\n",
       "    <tr style=\"text-align: right;\">\n",
       "      <th></th>\n",
       "      <th>Age</th>\n",
       "      <th>Education</th>\n",
       "      <th>Usage</th>\n",
       "      <th>Fitness</th>\n",
       "      <th>Income</th>\n",
       "      <th>Miles</th>\n",
       "    </tr>\n",
       "  </thead>\n",
       "  <tbody>\n",
       "    <tr>\n",
       "      <th>Age</th>\n",
       "      <td>1.000000</td>\n",
       "      <td>0.280496</td>\n",
       "      <td>0.015064</td>\n",
       "      <td>0.061105</td>\n",
       "      <td>0.513414</td>\n",
       "      <td>0.036618</td>\n",
       "    </tr>\n",
       "    <tr>\n",
       "      <th>Education</th>\n",
       "      <td>0.280496</td>\n",
       "      <td>1.000000</td>\n",
       "      <td>0.395155</td>\n",
       "      <td>0.410581</td>\n",
       "      <td>0.625827</td>\n",
       "      <td>0.307284</td>\n",
       "    </tr>\n",
       "    <tr>\n",
       "      <th>Usage</th>\n",
       "      <td>0.015064</td>\n",
       "      <td>0.395155</td>\n",
       "      <td>1.000000</td>\n",
       "      <td>0.668606</td>\n",
       "      <td>0.519537</td>\n",
       "      <td>0.759130</td>\n",
       "    </tr>\n",
       "    <tr>\n",
       "      <th>Fitness</th>\n",
       "      <td>0.061105</td>\n",
       "      <td>0.410581</td>\n",
       "      <td>0.668606</td>\n",
       "      <td>1.000000</td>\n",
       "      <td>0.535005</td>\n",
       "      <td>0.785702</td>\n",
       "    </tr>\n",
       "    <tr>\n",
       "      <th>Income</th>\n",
       "      <td>0.513414</td>\n",
       "      <td>0.625827</td>\n",
       "      <td>0.519537</td>\n",
       "      <td>0.535005</td>\n",
       "      <td>1.000000</td>\n",
       "      <td>0.543473</td>\n",
       "    </tr>\n",
       "    <tr>\n",
       "      <th>Miles</th>\n",
       "      <td>0.036618</td>\n",
       "      <td>0.307284</td>\n",
       "      <td>0.759130</td>\n",
       "      <td>0.785702</td>\n",
       "      <td>0.543473</td>\n",
       "      <td>1.000000</td>\n",
       "    </tr>\n",
       "  </tbody>\n",
       "</table>\n",
       "</div>"
      ],
      "text/plain": [
       "                Age  Education     Usage   Fitness    Income     Miles\n",
       "Age        1.000000   0.280496  0.015064  0.061105  0.513414  0.036618\n",
       "Education  0.280496   1.000000  0.395155  0.410581  0.625827  0.307284\n",
       "Usage      0.015064   0.395155  1.000000  0.668606  0.519537  0.759130\n",
       "Fitness    0.061105   0.410581  0.668606  1.000000  0.535005  0.785702\n",
       "Income     0.513414   0.625827  0.519537  0.535005  1.000000  0.543473\n",
       "Miles      0.036618   0.307284  0.759130  0.785702  0.543473  1.000000"
      ]
     },
     "execution_count": 13,
     "metadata": {},
     "output_type": "execute_result"
    }
   ],
   "source": [
    "#display the correlation between each numeric variables of the dataset\n",
    "df1.corr().T"
   ]
  },
  {
   "cell_type": "markdown",
   "id": "1b260dbd",
   "metadata": {},
   "source": [
    "- there is a strong positive correlation between 'Miles' and 'Fitness', the more miles a person runs, the more fit they are\n",
    "\n",
    "- there is a good positive correlation between 'fitness' and 'income', this might mean that richer customers exercise more.\n",
    "\n",
    "- age has little correlation to features such as usuage, fitness and miles."
   ]
  },
  {
   "cell_type": "code",
   "execution_count": null,
   "id": "39deb1be",
   "metadata": {},
   "outputs": [],
   "source": []
  },
  {
   "cell_type": "markdown",
   "id": "1ee3ee48",
   "metadata": {},
   "source": [
    "## Univariate Analysis"
   ]
  },
  {
   "cell_type": "code",
   "execution_count": 14,
   "id": "27b7928a",
   "metadata": {},
   "outputs": [
    {
     "name": "stdout",
     "output_type": "stream",
     "text": [
      "<class 'pandas.core.frame.DataFrame'>\n",
      "RangeIndex: 180 entries, 0 to 179\n",
      "Data columns (total 9 columns):\n",
      " #   Column         Non-Null Count  Dtype \n",
      "---  ------         --------------  ----- \n",
      " 0   Product        180 non-null    object\n",
      " 1   Age            180 non-null    int64 \n",
      " 2   Gender         180 non-null    object\n",
      " 3   Education      180 non-null    int64 \n",
      " 4   MaritalStatus  180 non-null    object\n",
      " 5   Usage          180 non-null    int64 \n",
      " 6   Fitness        180 non-null    int64 \n",
      " 7   Income         180 non-null    int64 \n",
      " 8   Miles          180 non-null    int64 \n",
      "dtypes: int64(6), object(3)\n",
      "memory usage: 12.8+ KB\n"
     ]
    }
   ],
   "source": [
    "df1.info()"
   ]
  },
  {
   "cell_type": "code",
   "execution_count": 105,
   "id": "30a58473",
   "metadata": {},
   "outputs": [],
   "source": [
    "# this function will serve to easily help us plot a histogram and a boxplot with shared x-axis.\n",
    "\n",
    "def histogram_boxplot(data, feature, figsize=(9, 5), kde=False, bins=None):\n",
    "    \"\"\"\n",
    "    Boxplot and histogram combined\n",
    "\n",
    "    data: dataframe\n",
    "    feature: dataframe column\n",
    "    figsize: size of figure (default (12,7))\n",
    "    kde: whether to show the density curve (default False)\n",
    "    bins: number of bins for histogram (default None)\n",
    "    kind: specifies if a histogram or countplot should be plotted\n",
    "    \"\"\"\n",
    "    \n",
    "    f1, (ax_box, ax_hist) = plt.subplots(2, 1, #fig should appear in a 2 rows and 1 column style\n",
    "                                     #nrows=2, #number of rows on grid = 2\n",
    "                                    sharex = True, # share the x column\n",
    "                                    gridspec_kw={\"height_ratios\": (0.25, 0.75)},\n",
    "                                        figsize = figsize)\n",
    "\n",
    "    # plot the boxplot\n",
    "    # boxplot will be created and a star will indicate the mean value of the column\n",
    "    sns.boxplot(data=data, x=feature, ax=ax_box, showmeans=True, color=\"mediumturquoise\")\n",
    "    \n",
    "        #plot the hisstogram\n",
    "    if bins != None:\n",
    "            #if bins is specified\n",
    "        sns.histplot(data=data, x=feature, kde=kde, ax=ax_hist, bins=bins, color=\"mediumpurple\")\n",
    "    else:\n",
    "            #if bins is not specified\n",
    "        sns.histplot(data=data, x=feature, kde=kde, ax=ax_hist, color=\"mediumpurple\")\n",
    "\n",
    "        ax_hist.axvline(data[feature].mean(), color=\"green\", linestyle=\"--\")  # Add mean to the histogram\n",
    "\n",
    "        ax_hist.axvline(data[feature].median(), color=\"black\", linestyle=\"-\")  # Add median to the histogram\n",
    "    \n"
   ]
  },
  {
   "cell_type": "code",
   "execution_count": 106,
   "id": "737b1528",
   "metadata": {},
   "outputs": [
    {
     "data": {
      "image/png": "[encoded data removed]",
      "text/plain": [
       "<Figure size 648x360 with 2 Axes>"
      ]
     },
     "metadata": {
      "needs_background": "light"
     },
     "output_type": "display_data"
    }
   ],
   "source": [
    "histogram_boxplot(data = df1, feature='Age', kde = True)"
   ]
  },
  {
   "cell_type": "markdown",
   "id": "bcaec65a",
   "metadata": {},
   "source": [
    "* the shape of the density distribution curve suggest the presence of outliers in this feature. from our EDA,the mean age (28.79), the median age (26), since the mean is greater than the median, this conforms to expectation. we see that some customers are as old as 50years and are responsible for the right skew of our graph. \n",
    "\n",
    "* the graphs suggests that a larger number of people in our data (THE MODE), age between 24 to 26 and the boxplot defines this age class to be between the 25th and 50th percentile."
   ]
  },
  {
   "cell_type": "code",
   "execution_count": 125,
   "id": "63be0fd3",
   "metadata": {
    "scrolled": true
   },
   "outputs": [
    {
     "data": {
      "image/png": "[encoded data removed]",
      "text/plain": [
       "<Figure size 432x288 with 1 Axes>"
      ]
     },
     "metadata": {
      "needs_background": "light"
     },
     "output_type": "display_data"
    }
   ],
   "source": [
    "#plot a countplot for the education column\n",
    "\n",
    "sns.boxplot(data = df1, x='Education', showmeans = True);"
   ]
  },
  {
   "cell_type": "markdown",
   "id": "f45dffc6",
   "metadata": {},
   "source": [
    "* the boxplot shows that 75% of the customers have spent at least 16 years in school.\n",
    "* the minimum years spent in school by an customer is 12years and only 25% of the customers have spent higher than 16years in school."
   ]
  },
  {
   "cell_type": "code",
   "execution_count": 124,
   "id": "18f97335",
   "metadata": {},
   "outputs": [
    {
     "data": {
      "image/png": "[encoded data removed]",
      "text/plain": [
       "<Figure size 432x288 with 1 Axes>"
      ]
     },
     "metadata": {
      "needs_background": "light"
     },
     "output_type": "display_data"
    }
   ],
   "source": [
    "#plot a countplot for the education column\n",
    "sns.countplot(data = df1, x='Education');"
   ]
  },
  {
   "cell_type": "markdown",
   "id": "6c7e43f2",
   "metadata": {},
   "source": [
    "* the mode (most frequent) number of years in education is 16 years.\n",
    "\n",
    "later on we would hope to see the relationship between the fitness level of people with education above 16years, relative to the fitness level of customers with education from 16years below."
   ]
  },
  {
   "cell_type": "code",
   "execution_count": 146,
   "id": "b0a5a512",
   "metadata": {},
   "outputs": [
    {
     "data": {
      "image/png": "[encoded data removed]",
      "text/plain": [
       "<Figure size 360x360 with 1 Axes>"
      ]
     },
     "metadata": {
      "needs_background": "light"
     },
     "output_type": "display_data"
    }
   ],
   "source": [
    "sns.catplot(data=df1, x = 'Product', kind='count');"
   ]
  },
  {
   "cell_type": "markdown",
   "id": "e5d44236",
   "metadata": {},
   "source": [
    "* 80 customers make use of TM195,\n",
    "* 60 customers make use of TM498,\n",
    "* 40 customers make use of TM798."
   ]
  },
  {
   "cell_type": "code",
   "execution_count": 131,
   "id": "2cf62ffc",
   "metadata": {},
   "outputs": [
    {
     "data": {
      "image/png": "[encoded data removed]",
      "text/plain": [
       "<Figure size 360x360 with 1 Axes>"
      ]
     },
     "metadata": {
      "needs_background": "light"
     },
     "output_type": "display_data"
    }
   ],
   "source": [
    "sns.catplot(data=df1, x = 'Gender', kind='count');"
   ]
  },
  {
   "cell_type": "markdown",
   "id": "6e0640f6",
   "metadata": {},
   "source": [
    "* there are more males in this dataset than females.\n"
   ]
  },
  {
   "cell_type": "code",
   "execution_count": 142,
   "id": "0cc8e9a6",
   "metadata": {},
   "outputs": [
    {
     "data": {
      "image/png": "[encoded data removed]",
      "text/plain": [
       "<Figure size 360x360 with 1 Axes>"
      ]
     },
     "metadata": {
      "needs_background": "light"
     },
     "output_type": "display_data"
    }
   ],
   "source": [
    "sns.catplot(data=df1, x = 'MaritalStatus', kind='count');\n"
   ]
  },
  {
   "cell_type": "markdown",
   "id": "9f6b5ebe",
   "metadata": {},
   "source": [
    "* there are more customers with partners than single customers"
   ]
  },
  {
   "cell_type": "code",
   "execution_count": 160,
   "id": "3a752335",
   "metadata": {},
   "outputs": [
    {
     "data": {
      "image/png": "[encoded data removed]",
      "text/plain": [
       "<Figure size 432x288 with 1 Axes>"
      ]
     },
     "metadata": {
      "needs_background": "light"
     },
     "output_type": "display_data"
    }
   ],
   "source": [
    "sns.countplot(data = df1, x='Usage');"
   ]
  },
  {
   "cell_type": "markdown",
   "id": "07ef09ad",
   "metadata": {},
   "source": [
    "* all customers make use of their products at least 2 times weekly.\n",
    "* many customers make use of their products 3 times on avergae.\n",
    "* there are still some customers who make use of the products 7 times on average.\n",
    "\n",
    "- what properties would the last set of customers have that akes them different from others?"
   ]
  },
  {
   "cell_type": "code",
   "execution_count": 161,
   "id": "35b0a449",
   "metadata": {},
   "outputs": [
    {
     "data": {
      "image/png": "[encoded data removed]",
      "text/plain": [
       "<Figure size 432x288 with 1 Axes>"
      ]
     },
     "metadata": {
      "needs_background": "light"
     },
     "output_type": "display_data"
    }
   ],
   "source": [
    "sns.countplot(data = df1, x='Fitness');"
   ]
  },
  {
   "cell_type": "markdown",
   "id": "50208332",
   "metadata": {},
   "source": [
    "* this shows that most of the customers are averagely fit.\n",
    "* "
   ]
  },
  {
   "cell_type": "code",
   "execution_count": 163,
   "id": "ba056277",
   "metadata": {},
   "outputs": [
    {
     "data": {
      "image/png": "[encoded data removed]",
      "text/plain": [
       "<Figure size 432x288 with 1 Axes>"
      ]
     },
     "metadata": {
      "needs_background": "light"
     },
     "output_type": "display_data"
    }
   ],
   "source": [
    "sns.boxplot(data=df1, x = 'Fitness');"
   ]
  },
  {
   "cell_type": "markdown",
   "id": "e14b66e4",
   "metadata": {},
   "source": [
    "* this shows that 50%(25th - 75th percentile) of the customers have fitness level ranging from 3-4"
   ]
  },
  {
   "cell_type": "code",
   "execution_count": 166,
   "id": "037a9d4d",
   "metadata": {},
   "outputs": [
    {
     "data": {
      "image/png": "[encoded data removed]",
      "text/plain": [
       "<Figure size 648x360 with 2 Axes>"
      ]
     },
     "metadata": {
      "needs_background": "light"
     },
     "output_type": "display_data"
    }
   ],
   "source": [
    "histogram_boxplot(data = df1, feature = 'Income', kde = True)"
   ]
  },
  {
   "cell_type": "markdown",
   "id": "24519e8c",
   "metadata": {},
   "source": [
    "* 75% of the population earn less than 60,000. this means that the mean of income will be affected by outliers (income above 70,000)\n",
    "\n",
    "* the mean of this distribution is greater than the median, and shows a right skew explained by customers that have income larger income.\n",
    "\n",
    "* the distribution suggests that segmenting customers into 2 clases may prove to be informative,\n",
    "    - income range 30,000 to 69,900 and 70,000 to 100,000"
   ]
  },
  {
   "cell_type": "code",
   "execution_count": 179,
   "id": "9399a15e",
   "metadata": {},
   "outputs": [
    {
     "data": {
      "image/png": "[encoded data removed]",
      "text/plain": [
       "<Figure size 648x360 with 2 Axes>"
      ]
     },
     "metadata": {
      "needs_background": "light"
     },
     "output_type": "display_data"
    }
   ],
   "source": [
    "histogram_boxplot(data = df1[df1['Income'] < 70000], feature = 'Income', kde = True)\n",
    "\n",
    "#which product is mostly used by this subclass and how fit are they?"
   ]
  },
  {
   "cell_type": "code",
   "execution_count": null,
   "id": "2ad4f9eb",
   "metadata": {},
   "outputs": [],
   "source": []
  },
  {
   "cell_type": "code",
   "execution_count": 178,
   "id": "968513a0",
   "metadata": {},
   "outputs": [
    {
     "data": {
      "image/png": "[encoded data removed]",
      "text/plain": [
       "<Figure size 648x360 with 2 Axes>"
      ]
     },
     "metadata": {
      "needs_background": "light"
     },
     "output_type": "display_data"
    }
   ],
   "source": [
    "histogram_boxplot(data = df1[df1['Income'] >= 70000], feature = 'Income', kde = True)\n",
    "\n",
    "#which product is mostly used by this subclass and how fit are they?"
   ]
  },
  {
   "cell_type": "code",
   "execution_count": null,
   "id": "18090f09",
   "metadata": {},
   "outputs": [],
   "source": []
  },
  {
   "cell_type": "code",
   "execution_count": 177,
   "id": "e3e7875f",
   "metadata": {},
   "outputs": [
    {
     "data": {
      "image/png": "[encoded data removed]",
      "text/plain": [
       "<Figure size 648x360 with 2 Axes>"
      ]
     },
     "metadata": {
      "needs_background": "light"
     },
     "output_type": "display_data"
    }
   ],
   "source": [
    "histogram_boxplot(data = df1, feature = 'Miles', kde=True)"
   ]
  },
  {
   "cell_type": "markdown",
   "id": "609fa2db",
   "metadata": {},
   "source": [
    " - 50% of customers are expected to run within 94 miles.\n",
    " * the right skew observed is as a result of higher number of miles some customers are expected to run (350). These are the very fit customers."
   ]
  },
  {
   "cell_type": "code",
   "execution_count": null,
   "id": "af7354dc",
   "metadata": {},
   "outputs": [],
   "source": []
  },
  {
   "cell_type": "code",
   "execution_count": null,
   "id": "69d3769a",
   "metadata": {},
   "outputs": [],
   "source": []
  },
  {
   "cell_type": "code",
   "execution_count": null,
   "id": "d85eae5b",
   "metadata": {},
   "outputs": [],
   "source": []
  },
  {
   "cell_type": "markdown",
   "id": "34bf8913",
   "metadata": {},
   "source": [
    "## Multivariate Analysis"
   ]
  },
  {
   "cell_type": "markdown",
   "id": "be77efa4",
   "metadata": {},
   "source": [
    "### The goal of the multivariate analysis, is to understand the relationship between the products and other variables, thereby defining the characteristics of the customers of each product. From this insight, recommendations will be made."
   ]
  },
  {
   "cell_type": "markdown",
   "id": "2360d401",
   "metadata": {},
   "source": [
    "### Correlation plot with Heatmap"
   ]
  },
  {
   "cell_type": "code",
   "execution_count": 14,
   "id": "e4f22564",
   "metadata": {},
   "outputs": [
    {
     "data": {
      "image/png": "[encoded data removed]",
      "text/plain": [
       "<Figure size 432x288 with 2 Axes>"
      ]
     },
     "metadata": {
      "needs_background": "light"
     },
     "output_type": "display_data"
    }
   ],
   "source": [
    "#plot a heatmap with the correlation values\n",
    "\n",
    "\n",
    "#remove all the text columns or categorical columns and include only integer or float column\n",
    "df2 = df1.select_dtypes(exclude='object')\n",
    "\n",
    "#store it in a variable\n",
    "corr_data = df2.corr()\n",
    "\n",
    "#plot a heat map with the data\n",
    "sns.heatmap(data= corr_data, vmin=-1, vmax=1, cmap = 'ocean_r', annot=True);"
   ]
  },
  {
   "cell_type": "markdown",
   "id": "a6cb2006",
   "metadata": {},
   "source": [
    "- All variable has a positive correlation with eachother.\n",
    "- Insight from map shows that Age has a strong positive correlation with Income and howbeit lesser with education; the older a customer gets the greater his income and knowledge and probably the higher the his purchasing power to buy a product\n",
    "\n",
    "- Insight from map shows that Education has a strong positive correlation with Income and Fitness, this suggests that the more education a person receives, the more he understands the importance of keeping fit and the higher his income to purchase the products\n",
    "\n",
    "- From the map, Usuage has a strong correlation with Miles, Income, Fitness, and education. This suggests that the more educated a customer is, the higher his usuage of the product, moreso, the higher his fitness."
   ]
  },
  {
   "cell_type": "markdown",
   "id": "c527ad56",
   "metadata": {},
   "source": [
    "### Scatter Plot\n",
    "\n",
    "\n",
    "- To visualize 2 numerical variables and categorize the plot with a categorical variable, \n",
    "\n",
    "- i will define a function that will do the above and can also plot a categorical plot witha numerical varibale as hue"
   ]
  },
  {
   "cell_type": "code",
   "execution_count": 45,
   "id": "5bac8035",
   "metadata": {},
   "outputs": [],
   "source": [
    "def scatter_or_cat(data, x = None, y = None, kind = None):\n",
    "    \"\"\"\n",
    "    data = data source\n",
    "    x = variable on x axis\n",
    "    y = variable on y axis for scatterplot or hue variable for catplots\n",
    "    kind: if kind == 'cat', plot a categorical plot or 'scat' for scatter plots\n",
    "    \"\"\"\n",
    "    if kind == 'scat':\n",
    "        sns.scatterplot(data= data,\n",
    "                       x =x,\n",
    "                       y = y,\n",
    "                       hue = 'Product');\n",
    "    elif kind == 'cat':\n",
    "        sns.catplot(data=data, x = x, kind='count', hue = y);\n",
    "        \n"
   ]
  },
  {
   "cell_type": "code",
   "execution_count": 49,
   "id": "d1aef6ca",
   "metadata": {},
   "outputs": [
    {
     "data": {
      "image/png": "[encoded data removed]",
      "text/plain": [
       "<Figure size 432x288 with 1 Axes>"
      ]
     },
     "metadata": {
      "needs_background": "light"
     },
     "output_type": "display_data"
    }
   ],
   "source": [
    "scatter_or_cat(data = df1, x = 'Age', y = 'Income', kind = 'scat')\n"
   ]
  },
  {
   "cell_type": "markdown",
   "id": "c7a1dfbd",
   "metadata": {},
   "source": [
    "- this shows that customers across all ages with higher income and make use of the TM798\n",
    "- product TM195, is largely used by customers of lower income class, accross all age grades and this suggests that the products is largely affordable.\n",
    "- a higher concentration of customers who use TM498, are between 23 -40 years old, with a bit more higher income. "
   ]
  },
  {
   "cell_type": "markdown",
   "id": "955138d6",
   "metadata": {},
   "source": [
    "### Relationship between Education and Product\n",
    "* the aim is to understand the relationship between thelevel of education of a customer and the type of product they use."
   ]
  },
  {
   "cell_type": "code",
   "execution_count": 160,
   "id": "633e1f64",
   "metadata": {},
   "outputs": [
    {
     "data": {
      "image/png": "[encoded data removed]",
      "text/plain": [
       "<Figure size 432x288 with 1 Axes>"
      ]
     },
     "metadata": {
      "needs_background": "light"
     },
     "output_type": "display_data"
    }
   ],
   "source": [
    "# display a countplot for education categorized by product\n",
    "sns.countplot(data=df1, x = 'Education', hue='Product');\n",
    "\n"
   ]
  },
  {
   "cell_type": "markdown",
   "id": "4e756b66",
   "metadata": {},
   "source": [
    "- customers with higher education use mostly, TM798.\n",
    "- TM195 is used by many customers from all education levels except levels greater than 20. This shows the product may have good versatility.\n",
    "- TM498 is used predominantly by customers with education level 14-16, which is around the mean value (15.57) for education."
   ]
  },
  {
   "cell_type": "markdown",
   "id": "6ed0223d",
   "metadata": {},
   "source": [
    "### Relationship between Fitness and Product"
   ]
  },
  {
   "cell_type": "code",
   "execution_count": 63,
   "id": "656011d1",
   "metadata": {},
   "outputs": [
    {
     "data": {
      "image/png": "[encoded data removed]",
      "text/plain": [
       "<Figure size 402.75x360 with 1 Axes>"
      ]
     },
     "metadata": {
      "needs_background": "light"
     },
     "output_type": "display_data"
    }
   ],
   "source": [
    "scatter_or_cat(data = df1, x = 'Product', y = 'Fitness', kind = 'cat')"
   ]
  },
  {
   "cell_type": "markdown",
   "id": "60b61e41",
   "metadata": {},
   "source": [
    "* this is to visualize how fit customers of different products are\n",
    "    - Most Users of TM195 and TM498 are averagely fit.\n",
    "    - there are more unfit customers (fitness rating of 2 and 1) using TM195 than any other product\n",
    "    - No user of TM498 is perfectly fit\n",
    "    - Most Users of TM798 are perfectly fit"
   ]
  },
  {
   "cell_type": "markdown",
   "id": "1e4dc05a",
   "metadata": {},
   "source": [
    "### How Fit are Partnered customers relative to single customers?"
   ]
  },
  {
   "cell_type": "code",
   "execution_count": 109,
   "id": "26049e8b",
   "metadata": {},
   "outputs": [
    {
     "data": {
      "image/png": "[encoded data removed]",
      "text/plain": [
       "<Figure size 429.75x360 with 1 Axes>"
      ]
     },
     "metadata": {
      "needs_background": "light"
     },
     "output_type": "display_data"
    }
   ],
   "source": [
    "sns.catplot(data=df1, x = 'MaritalStatus', kind='count', hue = 'Product');\n"
   ]
  },
  {
   "cell_type": "markdown",
   "id": "a2d967a7",
   "metadata": {},
   "source": [
    "- THis means that there are more partnered customers than single customers for each of the product category"
   ]
  },
  {
   "cell_type": "code",
   "execution_count": 106,
   "id": "835e29de",
   "metadata": {
    "scrolled": false
   },
   "outputs": [
    {
     "data": {
      "image/png": "[encoded data removed]",
      "text/plain": [
       "<Figure size 402.75x360 with 1 Axes>"
      ]
     },
     "metadata": {
      "needs_background": "light"
     },
     "output_type": "display_data"
    }
   ],
   "source": [
    "#countplot for customers using TM195 categorizes by Marital status\n",
    "sns.catplot(data=df1[df1.Product == 'TM195'], x = 'MaritalStatus', kind='count', hue = 'Fitness');\n"
   ]
  },
  {
   "cell_type": "markdown",
   "id": "57bf6df7",
   "metadata": {},
   "source": [
    "- In general, this shows that more partnered customers are averagely fit.\n",
    "- More Partnered customers have fitness level of 2 relative to single customers.\n",
    "- this shows that some partnered customers using TM195 are highly unfit, lets look at these subset in particular"
   ]
  },
  {
   "cell_type": "code",
   "execution_count": 107,
   "id": "2dcb9a38",
   "metadata": {},
   "outputs": [
    {
     "data": {
      "text/html": [
       "<div>\n",
       "<style scoped>\n",
       "    .dataframe tbody tr th:only-of-type {\n",
       "        vertical-align: middle;\n",
       "    }\n",
       "\n",
       "    .dataframe tbody tr th {\n",
       "        vertical-align: top;\n",
       "    }\n",
       "\n",
       "    .dataframe thead th {\n",
       "        text-align: right;\n",
       "    }\n",
       "</style>\n",
       "<table border=\"1\" class=\"dataframe\">\n",
       "  <thead>\n",
       "    <tr style=\"text-align: right;\">\n",
       "      <th></th>\n",
       "      <th>Product</th>\n",
       "      <th>Age</th>\n",
       "      <th>Gender</th>\n",
       "      <th>Education</th>\n",
       "      <th>MaritalStatus</th>\n",
       "      <th>Usage</th>\n",
       "      <th>Fitness</th>\n",
       "      <th>Income</th>\n",
       "      <th>Miles</th>\n",
       "    </tr>\n",
       "  </thead>\n",
       "  <tbody>\n",
       "    <tr>\n",
       "      <th>14</th>\n",
       "      <td>TM195</td>\n",
       "      <td>23</td>\n",
       "      <td>Male</td>\n",
       "      <td>16</td>\n",
       "      <td>Partnered</td>\n",
       "      <td>3</td>\n",
       "      <td>1</td>\n",
       "      <td>38658</td>\n",
       "      <td>47</td>\n",
       "    </tr>\n",
       "  </tbody>\n",
       "</table>\n",
       "</div>"
      ],
      "text/plain": [
       "   Product  Age Gender  Education MaritalStatus  Usage  Fitness  Income  Miles\n",
       "14   TM195   23   Male         16     Partnered      3        1   38658     47"
      ]
     },
     "execution_count": 107,
     "metadata": {},
     "output_type": "execute_result"
    }
   ],
   "source": [
    "#subset dataset based on partnered customers with fitness level of 1\n",
    "df1.query(\"MaritalStatus == 'Partnered' & Fitness == 1\")\n",
    "\n",
    "#subset dataset based on partnered customers with fitness level of 2\n",
    "#df1.query(\"MaritalStatus == 'Partnered' & Fitness == 2\")\n"
   ]
  },
  {
   "cell_type": "markdown",
   "id": "9b1be91d",
   "metadata": {},
   "source": [
    "- although this customer uses the product on an average of 3 times and is well educated, he is still poorly fit.\n",
    "- this suggests that there may be customers with underlying health condition or poor fitness habits that might cause them to add weight irrespective of how much they exercise."
   ]
  },
  {
   "cell_type": "code",
   "execution_count": 174,
   "id": "2ce78631",
   "metadata": {},
   "outputs": [
    {
     "data": {
      "image/png": "[encoded data removed]",
      "text/plain": [
       "<Figure size 402.75x360 with 1 Axes>"
      ]
     },
     "metadata": {
      "needs_background": "light"
     },
     "output_type": "display_data"
    }
   ],
   "source": [
    "#countplot for customers using TM195 categorizes by Marital status\n",
    "\n",
    "sns.catplot(data=df1[df1.Product == 'TM195'], x = 'MaritalStatus', kind='count', hue = 'Fitness');\n"
   ]
  },
  {
   "cell_type": "markdown",
   "id": "ab78793b",
   "metadata": {},
   "source": [
    "- More Partnered customers making use of TM195 have fitness level of 2 (unfit) relative to single customers, this product has the highest ratio of unfit partnered customers to unfit single customers"
   ]
  },
  {
   "cell_type": "code",
   "execution_count": 108,
   "id": "f48ba641",
   "metadata": {},
   "outputs": [
    {
     "data": {
      "image/png": "[encoded data removed]",
      "text/plain": [
       "<Figure size 402.75x360 with 1 Axes>"
      ]
     },
     "metadata": {
      "needs_background": "light"
     },
     "output_type": "display_data"
    }
   ],
   "source": [
    "#countplot for customers using TM498 categorizes by Marital status\n",
    "\n",
    "sns.catplot(data=df1[df1.Product == 'TM498'], x = 'MaritalStatus', kind='count', hue = 'Fitness');\n"
   ]
  },
  {
   "cell_type": "markdown",
   "id": "7db91ed5",
   "metadata": {},
   "source": [
    "- More Partnered customers making use of TM498 have fitness level of 2 (unfit) relative to single customers, although this much lower than customers that make use of TM195\n"
   ]
  },
  {
   "cell_type": "code",
   "execution_count": 96,
   "id": "31ab6016",
   "metadata": {},
   "outputs": [
    {
     "data": {
      "image/png": "[encoded data removed]",
      "text/plain": [
       "<Figure size 402.75x360 with 1 Axes>"
      ]
     },
     "metadata": {
      "needs_background": "light"
     },
     "output_type": "display_data"
    }
   ],
   "source": [
    "#countplot for customers using TM798 categorizes by Marital status\n",
    "\n",
    "sns.catplot(data=df1[df1.Product == 'TM798'], x = 'MaritalStatus', kind='count', hue = 'Fitness');\n"
   ]
  },
  {
   "cell_type": "markdown",
   "id": "2442addd",
   "metadata": {},
   "source": [
    "* this shows that there are more unfit married customers than single customers. To prove this further..."
   ]
  },
  {
   "cell_type": "code",
   "execution_count": 99,
   "id": "07b42d1c",
   "metadata": {},
   "outputs": [
    {
     "data": {
      "text/html": [
       "<div>\n",
       "<style scoped>\n",
       "    .dataframe tbody tr th:only-of-type {\n",
       "        vertical-align: middle;\n",
       "    }\n",
       "\n",
       "    .dataframe tbody tr th {\n",
       "        vertical-align: top;\n",
       "    }\n",
       "\n",
       "    .dataframe thead th {\n",
       "        text-align: right;\n",
       "    }\n",
       "</style>\n",
       "<table border=\"1\" class=\"dataframe\">\n",
       "  <thead>\n",
       "    <tr style=\"text-align: right;\">\n",
       "      <th></th>\n",
       "      <th>Product</th>\n",
       "      <th>Age</th>\n",
       "      <th>Gender</th>\n",
       "      <th>Education</th>\n",
       "      <th>MaritalStatus</th>\n",
       "      <th>Usage</th>\n",
       "      <th>Fitness</th>\n",
       "      <th>Income</th>\n",
       "      <th>Miles</th>\n",
       "    </tr>\n",
       "  </thead>\n",
       "  <tbody>\n",
       "    <tr>\n",
       "      <th>4</th>\n",
       "      <td>TM195</td>\n",
       "      <td>20</td>\n",
       "      <td>Male</td>\n",
       "      <td>13</td>\n",
       "      <td>Partnered</td>\n",
       "      <td>4</td>\n",
       "      <td>2</td>\n",
       "      <td>35247</td>\n",
       "      <td>47</td>\n",
       "    </tr>\n",
       "    <tr>\n",
       "      <th>11</th>\n",
       "      <td>TM195</td>\n",
       "      <td>22</td>\n",
       "      <td>Female</td>\n",
       "      <td>14</td>\n",
       "      <td>Partnered</td>\n",
       "      <td>3</td>\n",
       "      <td>2</td>\n",
       "      <td>35247</td>\n",
       "      <td>66</td>\n",
       "    </tr>\n",
       "    <tr>\n",
       "      <th>14</th>\n",
       "      <td>TM195</td>\n",
       "      <td>23</td>\n",
       "      <td>Male</td>\n",
       "      <td>16</td>\n",
       "      <td>Partnered</td>\n",
       "      <td>3</td>\n",
       "      <td>1</td>\n",
       "      <td>38658</td>\n",
       "      <td>47</td>\n",
       "    </tr>\n",
       "    <tr>\n",
       "      <th>19</th>\n",
       "      <td>TM195</td>\n",
       "      <td>23</td>\n",
       "      <td>Female</td>\n",
       "      <td>15</td>\n",
       "      <td>Partnered</td>\n",
       "      <td>2</td>\n",
       "      <td>2</td>\n",
       "      <td>34110</td>\n",
       "      <td>38</td>\n",
       "    </tr>\n",
       "    <tr>\n",
       "      <th>25</th>\n",
       "      <td>TM195</td>\n",
       "      <td>24</td>\n",
       "      <td>Male</td>\n",
       "      <td>13</td>\n",
       "      <td>Partnered</td>\n",
       "      <td>3</td>\n",
       "      <td>2</td>\n",
       "      <td>42069</td>\n",
       "      <td>47</td>\n",
       "    </tr>\n",
       "    <tr>\n",
       "      <th>29</th>\n",
       "      <td>TM195</td>\n",
       "      <td>25</td>\n",
       "      <td>Female</td>\n",
       "      <td>14</td>\n",
       "      <td>Partnered</td>\n",
       "      <td>2</td>\n",
       "      <td>2</td>\n",
       "      <td>53439</td>\n",
       "      <td>47</td>\n",
       "    </tr>\n",
       "    <tr>\n",
       "      <th>32</th>\n",
       "      <td>TM195</td>\n",
       "      <td>25</td>\n",
       "      <td>Female</td>\n",
       "      <td>16</td>\n",
       "      <td>Partnered</td>\n",
       "      <td>2</td>\n",
       "      <td>2</td>\n",
       "      <td>40932</td>\n",
       "      <td>47</td>\n",
       "    </tr>\n",
       "    <tr>\n",
       "      <th>36</th>\n",
       "      <td>TM195</td>\n",
       "      <td>26</td>\n",
       "      <td>Male</td>\n",
       "      <td>16</td>\n",
       "      <td>Partnered</td>\n",
       "      <td>2</td>\n",
       "      <td>2</td>\n",
       "      <td>53439</td>\n",
       "      <td>47</td>\n",
       "    </tr>\n",
       "    <tr>\n",
       "      <th>41</th>\n",
       "      <td>TM195</td>\n",
       "      <td>27</td>\n",
       "      <td>Female</td>\n",
       "      <td>14</td>\n",
       "      <td>Partnered</td>\n",
       "      <td>3</td>\n",
       "      <td>2</td>\n",
       "      <td>45480</td>\n",
       "      <td>66</td>\n",
       "    </tr>\n",
       "    <tr>\n",
       "      <th>51</th>\n",
       "      <td>TM195</td>\n",
       "      <td>29</td>\n",
       "      <td>Female</td>\n",
       "      <td>14</td>\n",
       "      <td>Partnered</td>\n",
       "      <td>2</td>\n",
       "      <td>2</td>\n",
       "      <td>46617</td>\n",
       "      <td>38</td>\n",
       "    </tr>\n",
       "    <tr>\n",
       "      <th>55</th>\n",
       "      <td>TM195</td>\n",
       "      <td>31</td>\n",
       "      <td>Male</td>\n",
       "      <td>14</td>\n",
       "      <td>Partnered</td>\n",
       "      <td>2</td>\n",
       "      <td>2</td>\n",
       "      <td>54576</td>\n",
       "      <td>47</td>\n",
       "    </tr>\n",
       "    <tr>\n",
       "      <th>77</th>\n",
       "      <td>TM195</td>\n",
       "      <td>46</td>\n",
       "      <td>Female</td>\n",
       "      <td>16</td>\n",
       "      <td>Partnered</td>\n",
       "      <td>3</td>\n",
       "      <td>2</td>\n",
       "      <td>60261</td>\n",
       "      <td>47</td>\n",
       "    </tr>\n",
       "    <tr>\n",
       "      <th>85</th>\n",
       "      <td>TM498</td>\n",
       "      <td>21</td>\n",
       "      <td>Male</td>\n",
       "      <td>16</td>\n",
       "      <td>Partnered</td>\n",
       "      <td>2</td>\n",
       "      <td>2</td>\n",
       "      <td>34110</td>\n",
       "      <td>42</td>\n",
       "    </tr>\n",
       "    <tr>\n",
       "      <th>86</th>\n",
       "      <td>TM498</td>\n",
       "      <td>21</td>\n",
       "      <td>Male</td>\n",
       "      <td>12</td>\n",
       "      <td>Partnered</td>\n",
       "      <td>2</td>\n",
       "      <td>2</td>\n",
       "      <td>32973</td>\n",
       "      <td>53</td>\n",
       "    </tr>\n",
       "    <tr>\n",
       "      <th>91</th>\n",
       "      <td>TM498</td>\n",
       "      <td>23</td>\n",
       "      <td>Female</td>\n",
       "      <td>16</td>\n",
       "      <td>Partnered</td>\n",
       "      <td>3</td>\n",
       "      <td>2</td>\n",
       "      <td>43206</td>\n",
       "      <td>74</td>\n",
       "    </tr>\n",
       "    <tr>\n",
       "      <th>99</th>\n",
       "      <td>TM498</td>\n",
       "      <td>25</td>\n",
       "      <td>Male</td>\n",
       "      <td>16</td>\n",
       "      <td>Partnered</td>\n",
       "      <td>2</td>\n",
       "      <td>2</td>\n",
       "      <td>52302</td>\n",
       "      <td>42</td>\n",
       "    </tr>\n",
       "    <tr>\n",
       "      <th>128</th>\n",
       "      <td>TM498</td>\n",
       "      <td>35</td>\n",
       "      <td>Female</td>\n",
       "      <td>14</td>\n",
       "      <td>Partnered</td>\n",
       "      <td>3</td>\n",
       "      <td>2</td>\n",
       "      <td>52302</td>\n",
       "      <td>53</td>\n",
       "    </tr>\n",
       "    <tr>\n",
       "      <th>129</th>\n",
       "      <td>TM498</td>\n",
       "      <td>35</td>\n",
       "      <td>Male</td>\n",
       "      <td>16</td>\n",
       "      <td>Partnered</td>\n",
       "      <td>3</td>\n",
       "      <td>2</td>\n",
       "      <td>53439</td>\n",
       "      <td>53</td>\n",
       "    </tr>\n",
       "    <tr>\n",
       "      <th>138</th>\n",
       "      <td>TM498</td>\n",
       "      <td>45</td>\n",
       "      <td>Male</td>\n",
       "      <td>16</td>\n",
       "      <td>Partnered</td>\n",
       "      <td>2</td>\n",
       "      <td>2</td>\n",
       "      <td>54576</td>\n",
       "      <td>42</td>\n",
       "    </tr>\n",
       "  </tbody>\n",
       "</table>\n",
       "</div>"
      ],
      "text/plain": [
       "    Product  Age  Gender  Education MaritalStatus  Usage  Fitness  Income  \\\n",
       "4     TM195   20    Male         13     Partnered      4        2   35247   \n",
       "11    TM195   22  Female         14     Partnered      3        2   35247   \n",
       "14    TM195   23    Male         16     Partnered      3        1   38658   \n",
       "19    TM195   23  Female         15     Partnered      2        2   34110   \n",
       "25    TM195   24    Male         13     Partnered      3        2   42069   \n",
       "29    TM195   25  Female         14     Partnered      2        2   53439   \n",
       "32    TM195   25  Female         16     Partnered      2        2   40932   \n",
       "36    TM195   26    Male         16     Partnered      2        2   53439   \n",
       "41    TM195   27  Female         14     Partnered      3        2   45480   \n",
       "51    TM195   29  Female         14     Partnered      2        2   46617   \n",
       "55    TM195   31    Male         14     Partnered      2        2   54576   \n",
       "77    TM195   46  Female         16     Partnered      3        2   60261   \n",
       "85    TM498   21    Male         16     Partnered      2        2   34110   \n",
       "86    TM498   21    Male         12     Partnered      2        2   32973   \n",
       "91    TM498   23  Female         16     Partnered      3        2   43206   \n",
       "99    TM498   25    Male         16     Partnered      2        2   52302   \n",
       "128   TM498   35  Female         14     Partnered      3        2   52302   \n",
       "129   TM498   35    Male         16     Partnered      3        2   53439   \n",
       "138   TM498   45    Male         16     Partnered      2        2   54576   \n",
       "\n",
       "     Miles  \n",
       "4       47  \n",
       "11      66  \n",
       "14      47  \n",
       "19      38  \n",
       "25      47  \n",
       "29      47  \n",
       "32      47  \n",
       "36      47  \n",
       "41      66  \n",
       "51      38  \n",
       "55      47  \n",
       "77      47  \n",
       "85      42  \n",
       "86      53  \n",
       "91      74  \n",
       "99      42  \n",
       "128     53  \n",
       "129     53  \n",
       "138     42  "
      ]
     },
     "execution_count": 99,
     "metadata": {},
     "output_type": "execute_result"
    }
   ],
   "source": [
    "#subset of unfit married customers\n",
    "df1.query(\"MaritalStatus == 'Partnered' & Fitness < 3\")\n"
   ]
  },
  {
   "cell_type": "code",
   "execution_count": 101,
   "id": "42d9c903",
   "metadata": {},
   "outputs": [
    {
     "data": {
      "text/html": [
       "<div>\n",
       "<style scoped>\n",
       "    .dataframe tbody tr th:only-of-type {\n",
       "        vertical-align: middle;\n",
       "    }\n",
       "\n",
       "    .dataframe tbody tr th {\n",
       "        vertical-align: top;\n",
       "    }\n",
       "\n",
       "    .dataframe thead th {\n",
       "        text-align: right;\n",
       "    }\n",
       "</style>\n",
       "<table border=\"1\" class=\"dataframe\">\n",
       "  <thead>\n",
       "    <tr style=\"text-align: right;\">\n",
       "      <th></th>\n",
       "      <th>Product</th>\n",
       "      <th>Age</th>\n",
       "      <th>Gender</th>\n",
       "      <th>Education</th>\n",
       "      <th>MaritalStatus</th>\n",
       "      <th>Usage</th>\n",
       "      <th>Fitness</th>\n",
       "      <th>Income</th>\n",
       "      <th>Miles</th>\n",
       "    </tr>\n",
       "  </thead>\n",
       "  <tbody>\n",
       "    <tr>\n",
       "      <th>56</th>\n",
       "      <td>TM195</td>\n",
       "      <td>31</td>\n",
       "      <td>Female</td>\n",
       "      <td>14</td>\n",
       "      <td>Single</td>\n",
       "      <td>2</td>\n",
       "      <td>2</td>\n",
       "      <td>45480</td>\n",
       "      <td>47</td>\n",
       "    </tr>\n",
       "    <tr>\n",
       "      <th>59</th>\n",
       "      <td>TM195</td>\n",
       "      <td>33</td>\n",
       "      <td>Female</td>\n",
       "      <td>16</td>\n",
       "      <td>Single</td>\n",
       "      <td>2</td>\n",
       "      <td>2</td>\n",
       "      <td>55713</td>\n",
       "      <td>38</td>\n",
       "    </tr>\n",
       "    <tr>\n",
       "      <th>62</th>\n",
       "      <td>TM195</td>\n",
       "      <td>34</td>\n",
       "      <td>Female</td>\n",
       "      <td>16</td>\n",
       "      <td>Single</td>\n",
       "      <td>2</td>\n",
       "      <td>2</td>\n",
       "      <td>52302</td>\n",
       "      <td>66</td>\n",
       "    </tr>\n",
       "    <tr>\n",
       "      <th>92</th>\n",
       "      <td>TM498</td>\n",
       "      <td>23</td>\n",
       "      <td>Female</td>\n",
       "      <td>14</td>\n",
       "      <td>Single</td>\n",
       "      <td>3</td>\n",
       "      <td>2</td>\n",
       "      <td>40932</td>\n",
       "      <td>53</td>\n",
       "    </tr>\n",
       "    <tr>\n",
       "      <th>94</th>\n",
       "      <td>TM498</td>\n",
       "      <td>24</td>\n",
       "      <td>Female</td>\n",
       "      <td>14</td>\n",
       "      <td>Single</td>\n",
       "      <td>3</td>\n",
       "      <td>2</td>\n",
       "      <td>40932</td>\n",
       "      <td>85</td>\n",
       "    </tr>\n",
       "    <tr>\n",
       "      <th>106</th>\n",
       "      <td>TM498</td>\n",
       "      <td>25</td>\n",
       "      <td>Female</td>\n",
       "      <td>14</td>\n",
       "      <td>Single</td>\n",
       "      <td>2</td>\n",
       "      <td>2</td>\n",
       "      <td>45480</td>\n",
       "      <td>42</td>\n",
       "    </tr>\n",
       "    <tr>\n",
       "      <th>111</th>\n",
       "      <td>TM498</td>\n",
       "      <td>27</td>\n",
       "      <td>Male</td>\n",
       "      <td>14</td>\n",
       "      <td>Single</td>\n",
       "      <td>4</td>\n",
       "      <td>2</td>\n",
       "      <td>45480</td>\n",
       "      <td>53</td>\n",
       "    </tr>\n",
       "    <tr>\n",
       "      <th>117</th>\n",
       "      <td>TM498</td>\n",
       "      <td>31</td>\n",
       "      <td>Female</td>\n",
       "      <td>18</td>\n",
       "      <td>Single</td>\n",
       "      <td>2</td>\n",
       "      <td>1</td>\n",
       "      <td>65220</td>\n",
       "      <td>21</td>\n",
       "    </tr>\n",
       "    <tr>\n",
       "      <th>130</th>\n",
       "      <td>TM498</td>\n",
       "      <td>35</td>\n",
       "      <td>Female</td>\n",
       "      <td>16</td>\n",
       "      <td>Single</td>\n",
       "      <td>3</td>\n",
       "      <td>2</td>\n",
       "      <td>50028</td>\n",
       "      <td>64</td>\n",
       "    </tr>\n",
       "  </tbody>\n",
       "</table>\n",
       "</div>"
      ],
      "text/plain": [
       "    Product  Age  Gender  Education MaritalStatus  Usage  Fitness  Income  \\\n",
       "56    TM195   31  Female         14        Single      2        2   45480   \n",
       "59    TM195   33  Female         16        Single      2        2   55713   \n",
       "62    TM195   34  Female         16        Single      2        2   52302   \n",
       "92    TM498   23  Female         14        Single      3        2   40932   \n",
       "94    TM498   24  Female         14        Single      3        2   40932   \n",
       "106   TM498   25  Female         14        Single      2        2   45480   \n",
       "111   TM498   27    Male         14        Single      4        2   45480   \n",
       "117   TM498   31  Female         18        Single      2        1   65220   \n",
       "130   TM498   35  Female         16        Single      3        2   50028   \n",
       "\n",
       "     Miles  \n",
       "56      47  \n",
       "59      38  \n",
       "62      66  \n",
       "92      53  \n",
       "94      85  \n",
       "106     42  \n",
       "111     53  \n",
       "117     21  \n",
       "130     64  "
      ]
     },
     "execution_count": 101,
     "metadata": {},
     "output_type": "execute_result"
    }
   ],
   "source": [
    "#subset of unfit single customers\n",
    "\n",
    "df1.query(\"MaritalStatus == 'Single' & Fitness < 3\")\n"
   ]
  },
  {
   "cell_type": "code",
   "execution_count": null,
   "id": "406e6ef8",
   "metadata": {},
   "outputs": [],
   "source": [
    "\n"
   ]
  },
  {
   "cell_type": "markdown",
   "id": "3cdfdbc0",
   "metadata": {},
   "source": [
    "### how well are the products used by different genders?\n"
   ]
  },
  {
   "cell_type": "code",
   "execution_count": 110,
   "id": "92f3b555",
   "metadata": {},
   "outputs": [
    {
     "data": {
      "image/png": "[encoded data removed]",
      "text/plain": [
       "<Figure size 432.125x360 with 1 Axes>"
      ]
     },
     "metadata": {
      "needs_background": "light"
     },
     "output_type": "display_data"
    }
   ],
   "source": [
    "\n",
    "sns.catplot(data=df1, x = 'Product', kind='count', hue='Gender' );"
   ]
  },
  {
   "cell_type": "markdown",
   "id": "527619e4",
   "metadata": {},
   "source": [
    "- An equal number of Male and female customers using the TM195, suggests that the product is gender friendly\n",
    "- A verly low number of female make use of TM798.\n",
    "- More Males use TM498 Treadmill than Females\n",
    "\n",
    "### customers that make use of TM798"
   ]
  },
  {
   "cell_type": "code",
   "execution_count": 158,
   "id": "92110602",
   "metadata": {},
   "outputs": [
    {
     "data": {
      "image/png": "[encoded data removed]",
      "text/plain": [
       "<Figure size 432x288 with 2 Axes>"
      ]
     },
     "metadata": {
      "needs_background": "light"
     },
     "output_type": "display_data"
    }
   ],
   "source": [
    "#lets subset the data to get the female that use the TM798\n",
    "data_women = df1.query(\"Product == 'TM798' & Gender == 'Female'\")\n",
    "\n",
    "#lets subset the data to get the male that use the TM798\n",
    "data_men = df1.query(\"Product == 'TM798' & Gender == 'Male'\")\n",
    "\n",
    "#showing how fit these men and women are using subplots\n",
    "f, (ax1,ax2) = plt.subplots(1,2, sharey=True)  #create a subplot with 1 row and 2 columns, with shared y-axis\n",
    "ax1.title.set_text('Female') #title of first plot as female\n",
    "ax2.title.set_text('Male') #title of second as male\n",
    "sns.countplot(data= data_women, x = 'Fitness', ax=ax1);\n",
    "sns.countplot(data= data_men, x = 'Fitness', ax = ax2);"
   ]
  },
  {
   "cell_type": "markdown",
   "id": "1231f199",
   "metadata": {},
   "source": [
    "- this shows that 5 out of the 7 female that make use of TM798 are completely fit. This can be a selling point to women that desire fitness\n",
    "- very few male customers that make use of the TM798 are moderately fit, most of them are completely fit."
   ]
  },
  {
   "cell_type": "markdown",
   "id": "93d62a8b",
   "metadata": {},
   "source": [
    "### customers that make use of TM498"
   ]
  },
  {
   "cell_type": "code",
   "execution_count": 159,
   "id": "a2cac389",
   "metadata": {},
   "outputs": [
    {
     "data": {
      "image/png": "[encoded data removed]",
      "text/plain": [
       "<Figure size 432x288 with 2 Axes>"
      ]
     },
     "metadata": {
      "needs_background": "light"
     },
     "output_type": "display_data"
    }
   ],
   "source": [
    "#lets subset the data to get the female that use the TM498\n",
    "data_women = df1.query(\"Product == 'TM498' & Gender == 'Female'\")\n",
    "\n",
    "#lets subset the data to get the male that use the TM498\n",
    "data_men = df1.query(\"Product == 'TM498' & Gender == 'Male'\")\n",
    "\n",
    "#showing how fit these men and women are using subplots\n",
    "f, (ax1,ax2) = plt.subplots(1,2, sharey=True)\n",
    "ax1.title.set_text('Female')\n",
    "ax2.title.set_text('Male')\n",
    "sns.countplot(data= data_women, x = 'Fitness', ax=ax1);\n",
    "sns.countplot(data= data_men, x = 'Fitness', ax = ax2);"
   ]
  },
  {
   "cell_type": "markdown",
   "id": "48f89d67",
   "metadata": {},
   "source": [
    "- Although no female using this product is perfectly fit, this shows that most male and female users of TM498 treadmill are moderately fit.\n",
    "- Some customers of this product are unfit,(Fitness level of 2) and some female are very unfit (Fitness level of 1)\n",
    "- No male customer using the TM498 is very unfit (Fitness level of 1)"
   ]
  },
  {
   "cell_type": "markdown",
   "id": "48711d83",
   "metadata": {},
   "source": [
    "### customers that make use of TM195"
   ]
  },
  {
   "cell_type": "code",
   "execution_count": 156,
   "id": "3992e82b",
   "metadata": {},
   "outputs": [
    {
     "data": {
      "image/png": "[encoded data removed]",
      "text/plain": [
       "<Figure size 432x288 with 2 Axes>"
      ]
     },
     "metadata": {
      "needs_background": "light"
     },
     "output_type": "display_data"
    }
   ],
   "source": [
    "#lets subset the data to get the female that use the TM195\n",
    "data_women = df1.query(\"Product == 'TM195' & Gender == 'Female'\")\n",
    "\n",
    "#lets subset the data to get the male that use the TM195\n",
    "data_men = df1.query(\"Product == 'TM195' & Gender == 'Male'\")\n",
    "\n",
    "#showing how fit these men and women are using subplots\n",
    "f, (ax1,ax2) = plt.subplots(1,2, sharey=True)  #create a subplot with 1 row and 2 columns, with shared y-axis\n",
    "ax1.title.set_text('Female') #title of first plot as female\n",
    "ax2.title.set_text('Male') #title of second as male\n",
    "sns.countplot(data= data_women, x = 'Fitness', ax=ax1);\n",
    "sns.countplot(data= data_men, x = 'Fitness', ax = ax2);"
   ]
  },
  {
   "cell_type": "markdown",
   "id": "cc88b12a",
   "metadata": {},
   "source": [
    "- There are more unfit female users of TM195 than any other product (fitness level of 2). So women that desire higher fitness level can be advised to purchase or use TM498 or best, TM798.\n",
    "- some male customers of this product are very unfit (fitness level of 1)"
   ]
  },
  {
   "cell_type": "markdown",
   "id": "229a2f6d",
   "metadata": {},
   "source": [
    "### Relationship between Usage of the product and Fitness level of the users\n",
    "\n",
    "- The goal is to understand the fitness level the customers of each product has as a result of their usage."
   ]
  },
  {
   "cell_type": "code",
   "execution_count": 113,
   "id": "4e429db7",
   "metadata": {},
   "outputs": [
    {
     "data": {
      "image/png": "[encoded data removed]",
      "text/plain": [
       "<Figure size 402.375x360 with 1 Axes>"
      ]
     },
     "metadata": {
      "needs_background": "light"
     },
     "output_type": "display_data"
    }
   ],
   "source": [
    "#plot showing the usage of the products.\n",
    "scatter_or_cat(data=df1, x = 'Product', y = 'Usage', kind = 'cat')"
   ]
  },
  {
   "cell_type": "markdown",
   "id": "2ad96bc5",
   "metadata": {},
   "source": [
    "- customers using TM798, make use of the product an average of 4 times and a maximum of 7 times\n",
    "- TM195 and TM498 are mostly used 3 times on average and a maximum of 5 times.\n",
    "\n",
    "\n",
    "### Usage and Fitness level of customers that use TM195 product"
   ]
  },
  {
   "cell_type": "code",
   "execution_count": 172,
   "id": "02c7b4c6",
   "metadata": {},
   "outputs": [
    {
     "data": {
      "image/png": "[encoded data removed]",
      "text/plain": [
       "<Figure size 432x288 with 2 Axes>"
      ]
     },
     "metadata": {
      "needs_background": "light"
     },
     "output_type": "display_data"
    }
   ],
   "source": [
    "f, (ax_use, ax_fit) = plt.subplots(nrows = 1, #number of rows as 1\n",
    "                                  ncols=2, #number of columns as 2\n",
    "                                  sharey=True, #share the same y-axis\n",
    "                                  )\n",
    "#subset of data to people that use TM195 only\n",
    "sns.countplot(data=df1[df1['Product'] == 'TM195'], x = 'Usage', ax=ax_use);\n",
    "ax_use.title.set_text('Usage')\n",
    "\n",
    "sns.countplot(data=df1[df1['Product'] == 'TM195'], x = 'Fitness', ax=ax_fit);\n",
    "ax_fit.title.set_text('Fitness')\n"
   ]
  },
  {
   "cell_type": "markdown",
   "id": "f9165dc9",
   "metadata": {},
   "source": [
    "- Most users of TM195, use the product 3 times on average, and many of them have average fitness level.\n",
    "- although more than 20 people make use of the product 4 times on average and very little use it 5 times, only a few (less than 10) of them attain very high fitness levels (fitness level greater than 3 i.e 4 and 5)."
   ]
  },
  {
   "cell_type": "markdown",
   "id": "c01799ad",
   "metadata": {},
   "source": [
    "### Usage and Fitness level of customers that use TM498 product"
   ]
  },
  {
   "cell_type": "code",
   "execution_count": 170,
   "id": "50b27701",
   "metadata": {},
   "outputs": [
    {
     "data": {
      "image/png": "[encoded data removed]",
      "text/plain": [
       "<Figure size 432x288 with 2 Axes>"
      ]
     },
     "metadata": {
      "needs_background": "light"
     },
     "output_type": "display_data"
    }
   ],
   "source": [
    "\n",
    "f, (ax_use, ax_fit) = plt.subplots(nrows = 1, #number of rows as 1\n",
    "                                  ncols=2, #number of columns as 2\n",
    "                                  sharey=True, #share the same y-axis\n",
    "                                  )\n",
    "#subset of data to people that use TM498 only\n",
    "sns.countplot(data=df1[df1['Product'] == 'TM498'], x = 'Usage', ax=ax_use);\n",
    "ax_use.title.set_text('Usage')\n",
    "\n",
    "sns.countplot(data=df1[df1['Product'] == 'TM498'], x = 'Fitness', ax=ax_fit);\n",
    "ax_fit.title.set_text('Fitness')\n"
   ]
  },
  {
   "cell_type": "markdown",
   "id": "a4ae8b14",
   "metadata": {},
   "source": [
    "- MOst users of this product use it 3 times on average and many of them have fitness level of 3.\n",
    "- about 14 people use TM498, 2 times on average, and lesser than 14 people have fitness level below 2. this could mean that TM498 product is much better at helping customers achieve moderate fitness levels than TM195."
   ]
  },
  {
   "cell_type": "markdown",
   "id": "2abcd657",
   "metadata": {},
   "source": [
    "### Usage and Fitness level of customers that use TM798 product\n"
   ]
  },
  {
   "cell_type": "code",
   "execution_count": 173,
   "id": "baf20144",
   "metadata": {},
   "outputs": [
    {
     "data": {
      "image/png": "[encoded data removed]",
      "text/plain": [
       "<Figure size 432x288 with 2 Axes>"
      ]
     },
     "metadata": {
      "needs_background": "light"
     },
     "output_type": "display_data"
    }
   ],
   "source": [
    "f, (ax_use, ax_fit) = plt.subplots(nrows = 1, #number of rows as 1\n",
    "                                  ncols=2, #number of columns as 2\n",
    "                                  sharey=True, #share the same y-axis\n",
    "                                  )\n",
    "#subset of data to people that use TM798 only\n",
    "sns.countplot(data=df1[df1['Product'] == 'TM798'], x = 'Usage', ax=ax_use);\n",
    "ax_use.title.set_text('Usage')\n",
    "\n",
    "sns.countplot(data=df1[df1['Product'] == 'TM798'], x = 'Fitness', ax=ax_fit);\n",
    "ax_fit.title.set_text('Fitness')\n"
   ]
  },
  {
   "cell_type": "markdown",
   "id": "a97ff3da",
   "metadata": {},
   "source": [
    "- Although most customers make use of TM798 4 times on average, many of them are very fit. This could mean that the product is user friendly and helps users achieve optimal results much better than other products."
   ]
  },
  {
   "cell_type": "code",
   "execution_count": null,
   "id": "c6bde7df",
   "metadata": {},
   "outputs": [],
   "source": []
  },
  {
   "cell_type": "markdown",
   "id": "3070ef44",
   "metadata": {},
   "source": [
    "### Customer Profile"
   ]
  },
  {
   "cell_type": "markdown",
   "id": "89a32129",
   "metadata": {},
   "source": [
    "### TM195\n",
    "- TM195 is the most used product, it is mostly used by customers with lower income. this suggests that it is highly affordable relative to the other products and can still help the customer achieve fitness. It is also gender friendly as both genders illustrated by equal number of purchases from both gender class. The average fitness level for customers of this product is 3.\n",
    "\n",
    "### TM498\n",
    "- Although this product may be more expensive than TM195, this product can be seen as a better substitute for TM195 because\n",
    "- Most unfit customers with high income make use of TM498 and no customer using the TM498 is highly fit, rather most of the customers using this products are averagely fit. \n",
    "\n",
    "\n",
    "### TM798\n",
    "- TM798:\n",
    "    customers who make use of this product are at least moderately fit. it seems to be the most expensive, and this behaviour could likely be because it is purchased by cardio enthusiast or probably it is knowledge based, because these category of customers have spent on average 17years in school. It is best used to achieve higher fitness level and has higher number of usage by customers, this could be that the product is user friendly and has higher efficiency than other Products\n"
   ]
  },
  {
   "cell_type": "markdown",
   "id": "92654f9e",
   "metadata": {},
   "source": [
    "### Recommendation"
   ]
  },
  {
   "cell_type": "markdown",
   "id": "172e57ba",
   "metadata": {},
   "source": [
    "- Female customers with lower income, should be advised to purchase or use the TM498 instead of the TM195 because analysis has shown that Female users of TM498 achieve higher fitness level than those of TM195\n",
    "\n",
    "- Although moderate fitness level can achieved using TM195, Partnered customers that desire higher fitness level can be advised to make use of TM498 or TM798 for better chances of attaining higher fitness.\n",
    "\n",
    "- Customers with higher income that desires higher fitness level should be advised to purchase TM798."
   ]
  },
  {
   "cell_type": "code",
   "execution_count": null,
   "id": "9eaff002",
   "metadata": {},
   "outputs": [],
   "source": []
  }
 ],
 "metadata": {
  "kernelspec": {
   "display_name": "Python 3 (ipykernel)",
   "language": "python",
   "name": "python3"
  },
  "language_info": {
   "codemirror_mode": {
    "name": "ipython",
    "version": 3
   },
   "file_extension": ".py",
   "mimetype": "text/x-python",
   "name": "python",
   "nbconvert_exporter": "python",
   "pygments_lexer": "ipython3",
   "version": "3.8.16"
  }
 },
 "nbformat": 4,
 "nbformat_minor": 5
}
